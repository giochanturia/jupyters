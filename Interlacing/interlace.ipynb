{
 "cells": [
  {
   "cell_type": "code",
   "execution_count": 1,
   "id": "e029996b-89c4-4127-82f1-6f6f84409feb",
   "metadata": {},
   "outputs": [],
   "source": [
    "import numpy as np\n",
    "import cv2\n",
    "from matplotlib import pyplot as plt"
   ]
  },
  {
   "cell_type": "code",
   "execution_count": 2,
   "id": "c1b925e9-b2e7-4543-aead-f00571203d22",
   "metadata": {},
   "outputs": [],
   "source": [
    "def show(image, cmap='gray'):\n",
    "    plt.imshow(image, cmap=cmap)\n",
    "    plt.show()\n",
    "    \n",
    "def export(imagename):\n",
    "    cv2.imwrite(imagename+\".jpg\", eval(imagename))"
   ]
  },
  {
   "cell_type": "code",
   "execution_count": 50,
   "id": "f9d92bee-1e9b-41ca-8862-1e844b94098f",
   "metadata": {},
   "outputs": [],
   "source": [
    "# bastian = cv2.cvtColor(cv2.imread(\"img/bastian.png\"), cv2.COLOR_BGR2RGB)\n",
    "# bastian_triggered = cv2.cvtColor(cv2.imread(\"img/bastian_triggered.png\"), cv2.COLOR_BGR2RGB)\n",
    "\n",
    "# bastian = cv2.resize(bastian, (600,600))\n",
    "# bastian_triggered = cv2.resize(bastian_triggered, (600,600))\n",
    "\n",
    "inch_cm = 2.54\n",
    "target_DPI = 300\n",
    "sheet_LPI = 50\n",
    "image_PPI = target_DPI / sheet_LPI\n",
    "views_N = 2\n",
    "striped_pixels = image_PPI / views_N"
   ]
  },
  {
   "cell_type": "code",
   "execution_count": 59,
   "id": "77fa205c-bf40-4b9c-bad7-6bc663d4b724",
   "metadata": {},
   "outputs": [
    {
     "data": {
      "text/plain": [
       "3.0"
      ]
     },
     "execution_count": 59,
     "metadata": {},
     "output_type": "execute_result"
    }
   ],
   "source": [
    "striped_pixels"
   ]
  },
  {
   "cell_type": "code",
   "execution_count": 52,
   "id": "d44e53d0-94c6-47eb-b8a6-d8a2d8b6e7ba",
   "metadata": {},
   "outputs": [],
   "source": [
    "# anjachris = cv2.cvtColor(cv2.imread(\"img/AnjaChris_cropped.png\"), cv2.COLOR_BGR2RGB)\n",
    "# mirigio = cv2.cvtColor(cv2.imread(\"img/MiriGio_cropped.png\"), cv2.COLOR_BGR2RGB)\n",
    "\n",
    "# anjachris = cv2.resize(anjachris, (1181, 1772))\n",
    "# mirigio = cv2.resize(mirigio, (1181, 1772))"
   ]
  },
  {
   "cell_type": "code",
   "execution_count": 53,
   "id": "b0a4c1bf-1b39-47ac-93e1-95a095be2d55",
   "metadata": {},
   "outputs": [],
   "source": [
    "test_width = int(0.2 * target_DPI) # 0.1 inches\n",
    "test_length = int(1 * target_DPI) # 1 inch\n",
    "\n",
    "black_sheet = 0*np.ones((test_width, test_length, 3))\n",
    "white_sheet = 255*np.ones((test_width, test_length, 3))"
   ]
  },
  {
   "cell_type": "code",
   "execution_count": 54,
   "id": "85357762-e9b4-42d3-9a80-5366e5a01e22",
   "metadata": {},
   "outputs": [],
   "source": [
    "# a1 = cv2.cvtColor(cv2.imread(\"img/Apple_1.png\"), cv2.COLOR_BGR2RGB)\n",
    "# a2 = cv2.cvtColor(cv2.imread(\"img/Apple_2.png\"), cv2.COLOR_BGR2RGB)"
   ]
  },
  {
   "cell_type": "code",
   "execution_count": 55,
   "id": "a2d4d159-e10d-4628-94fb-f846c0d0e053",
   "metadata": {},
   "outputs": [],
   "source": [
    "# aspect_ratio = black_sheet.shape[1] / black_sheet.shape[0]\n",
    "# new_size = (int(target_DPI * 4 * aspect_ratio), target_DPI * 4)\n",
    "\n",
    "# black_sheet = cv2.resize(black_sheet, new_size)\n",
    "# white_sheet = cv2.resize(white_sheet, new_size)"
   ]
  },
  {
   "cell_type": "code",
   "execution_count": 69,
   "id": "bbeb7e09-b7a8-4efb-a535-60ae232713e4",
   "metadata": {},
   "outputs": [],
   "source": [
    "def interlace2v(image1, image2, vertical=True, lpi=40, dpi=300):\n",
    "    stripe_pixels = dpi / lpi / 2\n",
    "    \n",
    "    if vertical==False: # i.e. horizontal==True\n",
    "        image1 = image1.transpose((1,0,2))\n",
    "        image2 = image2.transpose((1,0,2))\n",
    "        \n",
    "    image_size = image1.shape[:2]\n",
    "    if image2.shape[:2] != image_size:\n",
    "        print(\"Image sizes don't match.\")\n",
    "        return None\n",
    "        \n",
    "    mask1 = np.tile((np.arange(image_size[0]) // stripe_pixels) % 2, (image_size[1],1)).T\n",
    "    mask2 = np.absolute(mask1 - 1)\n",
    "\n",
    "    image_output = image1 * mask1[:,:,np.newaxis] + image2 * mask2[:,:,np.newaxis]\n",
    "\n",
    "    if vertical == False:\n",
    "        image_output = image_output.transpose((1,0,2))\n",
    "\n",
    "    return image_output.astype(\"int\")"
   ]
  },
  {
   "cell_type": "code",
   "execution_count": 73,
   "id": "bebe4e41-a1d4-4f4a-98d1-f60fc1c912fd",
   "metadata": {},
   "outputs": [],
   "source": [
    "bw_interlaced = interlace2v(black_sheet, white_sheet, lpi=75, vertical=False)"
   ]
  },
  {
   "cell_type": "code",
   "execution_count": 74,
   "id": "7707743c-ec65-4e23-a336-bce9c951975f",
   "metadata": {},
   "outputs": [
    {
     "data": {
      "text/plain": [
       "<matplotlib.image.AxesImage at 0x7fb1531b6150>"
      ]
     },
     "execution_count": 74,
     "metadata": {},
     "output_type": "execute_result"
    },
    {
     "data": {
      "image/png": "[encoded data removed]",
      "text/plain": [
       "<Figure size 640x480 with 1 Axes>"
      ]
     },
     "metadata": {},
     "output_type": "display_data"
    }
   ],
   "source": [
    "plt.imshow(bw_interlaced)"
   ]
  },
  {
   "cell_type": "code",
   "execution_count": 75,
   "id": "8d1a68c6-f13a-4e25-86c6-d637b415bc1e",
   "metadata": {},
   "outputs": [
    {
     "data": {
      "text/plain": [
       "True"
      ]
     },
     "execution_count": 75,
     "metadata": {},
     "output_type": "execute_result"
    }
   ],
   "source": [
    "cv2.imwrite(\"img/bw_interlaced_horizontal.png\", cv2.cvtColor(np.float32(bw_interlaced), cv2.COLOR_BGR2RGB))"
   ]
  },
  {
   "cell_type": "code",
   "execution_count": null,
   "id": "c9088efe-7055-4f30-8838-844304e50420",
   "metadata": {},
   "outputs": [],
   "source": []
  }
 ],
 "metadata": {
  "kernelspec": {
   "display_name": "Python 3 (ipykernel)",
   "language": "python",
   "name": "python3"
  },
  "language_info": {
   "codemirror_mode": {
    "name": "ipython",
    "version": 3
   },
   "file_extension": ".py",
   "mimetype": "text/x-python",
   "name": "python",
   "nbconvert_exporter": "python",
   "pygments_lexer": "ipython3",
   "version": "3.11.6"
  }
 },
 "nbformat": 4,
 "nbformat_minor": 5
}
