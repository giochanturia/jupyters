{
 "cells": [
  {
   "cell_type": "code",
   "execution_count": 70,
   "metadata": {},
   "outputs": [],
   "source": [
    "import numpy as np\n",
    "import matplotlib.pyplot as plt\n",
    "# plt.rcParams['figure.figsize'] = [10, 10]\n",
    "plt.rcParams['figure.dpi'] = 100\n",
    "plt.rc('font', **{'family': 'serif', 'serif': ['Computer Modern']})\n",
    "plt.rc('text', usetex=True)"
   ]
  },
  {
   "cell_type": "code",
   "execution_count": 2,
   "metadata": {},
   "outputs": [],
   "source": [
    "def dim(l,m):\n",
    "    return int((1/2)*(l+m)*(m+1)*(l+m+2))\n",
    "\n",
    "def top_point(l,m):\n",
    "    return np.array([l/2, (l+2*m)/3])\n",
    "\n",
    "I = np.array([1,0])\n",
    "U = np.array([-1/2,1])\n",
    "V = np.array([-1/2,-1])\n",
    "\n",
    "def layer(l,m,n):\n",
    "    multiplicity = 1\n",
    "    for k in range(n-1):\n",
    "        if l>0 and m>0:\n",
    "            multiplicity += 1\n",
    "            l += -1\n",
    "            m += -1\n",
    "        elif l == 0:\n",
    "            m = m-3\n",
    "        elif m == 0:\n",
    "            l = l-3\n",
    "\n",
    "    if l<0 or m<0:\n",
    "        return None, None\n",
    "    \n",
    "    points = list()\n",
    "    points.append(top_point(l,m))\n",
    "    shifts = np.concatenate((\n",
    "        np.ones(l)[:,np.newaxis]*(-I),\n",
    "        np.ones(m)[:,np.newaxis]*(+V),\n",
    "        np.ones(l)[:,np.newaxis]*(-U),\n",
    "        np.ones(m)[:,np.newaxis]*(+I),\n",
    "        np.ones(l)[:,np.newaxis]*(-V),\n",
    "        np.ones(m)[:,np.newaxis]*(+U)\n",
    "    ))\n",
    "    for t in shifts:\n",
    "        newpoint = points[-1] + t\n",
    "        points.append(newpoint)\n",
    "    \n",
    "    return multiplicity, np.array(points).T"
   ]
  },
  {
   "cell_type": "code",
   "execution_count": 95,
   "metadata": {},
   "outputs": [],
   "source": [
    "def draw_multiplet(ax, l, m, point_color='g', line_color='g', size=30, no_frame=True):\n",
    "    all_points = None\n",
    "    for i in range(l+m):\n",
    "        n, points = layer(l,m,i+1)\n",
    "\n",
    "        if points is None:\n",
    "            break\n",
    "\n",
    "        if points.shape[1] > 1:\n",
    "            scatter_points = points[:,:-1]\n",
    "        else:\n",
    "            scatter_points = points\n",
    "\n",
    "        if all_points is None:\n",
    "            all_points = scatter_points\n",
    "        else:\n",
    "            all_points = np.concatenate((all_points, scatter_points), axis=1)\n",
    "\n",
    "        ax.plot(points[0], points[1], c=line_color, alpha=0.5, zorder=1)\n",
    "\n",
    "\n",
    "    x_width = min(np.diff(ax.get_xlim())[0], np.diff(ax.get_ylim())[0])\n",
    "\n",
    "    ax.scatter(all_points[0], all_points[1], s=4*size,\n",
    "               edgecolors='w', facecolors='w', alpha=1, zorder=2)\n",
    "    ax.scatter(all_points[0], all_points[1], s=size,\n",
    "               edgecolors=point_color, facecolors=point_color, alpha=0.5, zorder=3)\n",
    "\n",
    "    ax.axhline(0, c='gray', alpha=0.25, linestyle='solid', zorder=2)\n",
    "    ax.axvline(0, c='gray', alpha=0.25, linestyle='solid', zorder=2)\n",
    "    \n",
    "    ax.set_xlabel(r'Isospin $I_3$')\n",
    "    ax.set_ylabel(r'Hypercharge $Y$')\n",
    "\n",
    "    ax.set_aspect(1)\n",
    "    if no_frame:\n",
    "        ax.axis('off')"
   ]
  },
  {
   "cell_type": "code",
   "execution_count": 103,
   "metadata": {},
   "outputs": [
    {
     "data": {
      "image/png": "[encoded data removed]",
      "text/plain": [
       "<Figure size 500x500 with 1 Axes>"
      ]
     },
     "metadata": {
      "needs_background": "light"
     },
     "output_type": "display_data"
    }
   ],
   "source": [
    "fig,ax = plt.subplots(figsize=(5,5))\n",
    "draw_multiplet(ax, 5, 2,\n",
    "               size=30,\n",
    "               point_color='r', line_color='k', no_frame=False)"
   ]
  }
 ],
 "metadata": {
  "kernelspec": {
   "display_name": "Python 3",
   "language": "python",
   "name": "python3"
  },
  "language_info": {
   "codemirror_mode": {
    "name": "ipython",
    "version": 3
   },
   "file_extension": ".py",
   "mimetype": "text/x-python",
   "name": "python",
   "nbconvert_exporter": "python",
   "pygments_lexer": "ipython3",
   "version": "3.7.3"
  }
 },
 "nbformat": 4,
 "nbformat_minor": 5
}
