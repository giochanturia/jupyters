{
 "cells": [
  {
   "cell_type": "code",
   "execution_count": 55,
   "metadata": {},
   "outputs": [],
   "source": [
    "import numpy as np\n",
    "import matplotlib.pyplot as plt\n",
    "import fractions\n",
    "# plt.rcParams['figure.figsize'] = [10, 10]\n",
    "plt.rcParams['figure.dpi'] = 100\n",
    "plt.rc('font', **{'family': 'serif', 'serif': ['Computer Modern']})\n",
    "plt.rc('text', usetex=True)"
   ]
  },
  {
   "cell_type": "code",
   "execution_count": 2,
   "metadata": {},
   "outputs": [],
   "source": [
    "def dim(l,m):\n",
    "    return int((1/2)*(l+m)*(m+1)*(l+m+2))\n",
    "\n",
    "def top_point(l,m):\n",
    "    return np.array([l/2, (l+2*m)/3])\n",
    "\n",
    "def expand_limits(ax, factor=1.2):\n",
    "    ax.set_xlim(factor*np.array(ax.get_xlim()))\n",
    "    ax.set_ylim(factor*np.array(ax.get_ylim()))\n",
    "\n",
    "I = np.array([1,0])\n",
    "U = np.array([-1/2,1])\n",
    "V = np.array([-1/2,-1])\n",
    "\n",
    "IT = np.array([0,1])\n",
    "UT = np.array([1,1/2])\n",
    "VT = np.array([1,-1/2])\n",
    "\n",
    "UT = UT / np.linalg.norm(UT)\n",
    "VT = VT / np.linalg.norm(VT)\n",
    "\n",
    "def layer(l,m,n):\n",
    "    multiplicity = 1\n",
    "    for k in range(n-1):\n",
    "        if l>0 and m>0:\n",
    "            multiplicity += 1\n",
    "            l += -1\n",
    "            m += -1\n",
    "        elif l == 0:\n",
    "            m = m-3\n",
    "        elif m == 0:\n",
    "            l = l-3\n",
    "\n",
    "    if l<0 or m<0:\n",
    "        return None, None\n",
    "    \n",
    "    points = list()\n",
    "    points.append(top_point(l,m))\n",
    "    shifts = np.concatenate((\n",
    "        np.ones(l)[:,np.newaxis]*(-I),\n",
    "        np.ones(m)[:,np.newaxis]*(+V),\n",
    "        np.ones(l)[:,np.newaxis]*(-U),\n",
    "        np.ones(m)[:,np.newaxis]*(+I),\n",
    "        np.ones(l)[:,np.newaxis]*(-V),\n",
    "        np.ones(m)[:,np.newaxis]*(+U)\n",
    "    ))\n",
    "    for t in shifts:\n",
    "        newpoint = points[-1] + t\n",
    "        points.append(newpoint)\n",
    "    \n",
    "    return multiplicity, np.array(points).T"
   ]
  },
  {
   "cell_type": "code",
   "execution_count": 90,
   "metadata": {},
   "outputs": [],
   "source": [
    "def draw_multiplet(ax, l, m, point_color='g', line_color='g', size=30,\n",
    "                   no_frame=True, zero_lines=True, plot_title=True, point_labels=False):\n",
    "    all_points = None\n",
    "    for i in range(l+m):\n",
    "        n, points = layer(l,m,i+1)\n",
    "\n",
    "        if points is None:\n",
    "            break\n",
    "\n",
    "        if points.shape[1] > 1:\n",
    "            scatter_points = points[:,:-1]\n",
    "        else:\n",
    "            scatter_points = points\n",
    "\n",
    "        if all_points is None:\n",
    "            all_points = scatter_points\n",
    "        else:\n",
    "            all_points = np.concatenate((all_points, scatter_points), axis=1)\n",
    "\n",
    "        ax.plot(points[0], points[1], c=line_color, alpha=0.5, zorder=1)\n",
    "\n",
    "\n",
    "    x_width = min(np.diff(ax.get_xlim())[0], np.diff(ax.get_ylim())[0])\n",
    "\n",
    "    ax.scatter(all_points[0], all_points[1], s=4*size,\n",
    "               edgecolors='w', facecolors='w', alpha=1, zorder=2)\n",
    "    ax.scatter(all_points[0], all_points[1], s=size,\n",
    "               edgecolors=point_color, facecolors=point_color, alpha=0.5, zorder=3)\n",
    "    if point_labels:\n",
    "        for point in all_points.T:\n",
    "            px, py = [str(fractions.Fraction(p).limit_denominator(30)).split('/') for p in point]\n",
    "            \n",
    "            if len(px) > 1:\n",
    "                px = r\"\\frac{\" + px[0] + r\"}{\" + px[1] + r\"}\"\n",
    "            else:\n",
    "                px = px[0]\n",
    "                \n",
    "            if len(py) > 1:\n",
    "                py = r\"\\frac{\" + py[0] + r\"}{\" + py[1] + r\"}\"\n",
    "            else:\n",
    "                py = py[0]\n",
    "                \n",
    "            txt = r\"$\\left(\"+px+r',~'+px+r\"\\right)$\"\n",
    "            ax.text(*(point+np.array([0,.1])), txt, ha='center')\n",
    "\n",
    "    if zero_lines:\n",
    "        ax.axhline(0, c='gray', alpha=0.25, linestyle='solid', zorder=2)\n",
    "        ax.axvline(0, c='gray', alpha=0.25, linestyle='solid', zorder=2)\n",
    "    \n",
    "    ax.set_xlabel(r'Isospin $I_3$')\n",
    "    ax.set_ylabel(r'Hypercharge $Y$')\n",
    "    \n",
    "    if plot_title:\n",
    "        ax.set_title(r'$\\lambda=' + str(l) + r',\\mu=' + str(m) + r'$')\n",
    "\n",
    "    ax.set_aspect(1)\n",
    "    if no_frame:\n",
    "        ax.axis('off')"
   ]
  },
  {
   "cell_type": "code",
   "execution_count": 4,
   "metadata": {},
   "outputs": [
    {
     "data": {
      "image/png": "[encoded data removed]",
      "text/plain": [
       "<Figure size 500x500 with 1 Axes>"
      ]
     },
     "metadata": {
      "needs_background": "light"
     },
     "output_type": "display_data"
    }
   ],
   "source": [
    "fig, ax = plt.subplots(figsize=(5,5))\n",
    "\n",
    "lamb = 5\n",
    "mu   = 3\n",
    "\n",
    "lamb_c = \"#FB9300\"\n",
    "mu_c   = \"#BB371A\"\n",
    "\n",
    "pd = 0.65\n",
    "\n",
    "draw_multiplet(ax, lamb, mu,\n",
    "               size=30,\n",
    "               point_color='k', line_color='k', no_frame=False, zero_lines=False)\n",
    "\n",
    "A = top_point(lamb, mu)\n",
    "B = A-mu*U\n",
    "C = B+lamb*V\n",
    "D = C-mu*I\n",
    "E = D+lamb*U\n",
    "F = E-mu*V\n",
    "\n",
    "# ax.text(*(A+padding), r\"$A\\left(\\frac{\\lambda}{2},\\frac{\\lambda+2\\mu}{3}\\right)$\")\n",
    "\n",
    "ax.annotate(text=r\"$A\\left(\\frac{\\lambda}{2},\\frac{\\lambda+2\\mu}{3}\\right)$\", xy=A, xytext=A+[.15, .6])\n",
    "ax.annotate(text=r\"$B$\", xy=B, xytext=B+[.25,-.15])\n",
    "ax.annotate(text=r\"$C$\", xy=C, xytext=C+[.15,-.5])\n",
    "ax.annotate(text=r\"$D$\", xy=D, xytext=D+[-.45,-.5])\n",
    "ax.annotate(text=r\"$E$\", xy=E, xytext=E+[-.60,-.15])\n",
    "ax.annotate(text=r\"$F$\", xy=F, xytext=F+[-.35,.2])\n",
    "\n",
    "ax.annotate(text='', xy=A+pd*UT, xytext=B+pd*UT, arrowprops=dict(arrowstyle='<|-|>', color=mu_c))\n",
    "ax.annotate(text='', xy=B+pd*VT, xytext=C+pd*VT, arrowprops=dict(arrowstyle='<|-|>', color=lamb_c))\n",
    "ax.annotate(text='', xy=C-pd*IT, xytext=D-pd*IT, arrowprops=dict(arrowstyle='<|-|>', color=mu_c))\n",
    "ax.annotate(text='', xy=D-pd*UT, xytext=E-pd*UT, arrowprops=dict(arrowstyle='<|-|>', color=lamb_c))\n",
    "ax.annotate(text='', xy=E-pd*VT, xytext=F-pd*VT, arrowprops=dict(arrowstyle='<|-|>', color=mu_c))\n",
    "ax.annotate(text='', xy=F+pd*IT, xytext=A+pd*IT, arrowprops=dict(arrowstyle='<|-|>', color=lamb_c))\n",
    "\n",
    "ax.text(*((A+B)/2+1.35*pd*UT), r'$\\mu$', color=mu_c)\n",
    "ax.text(*((B+C)/2+1.45*pd*VT), r'$\\lambda$', color=lamb_c)\n",
    "ax.text(*((C+D)/2-1.85*pd*IT), r'$\\mu$', color=mu_c)\n",
    "ax.text(*((D+E)/2-1.85*pd*UT), r'$\\lambda$', color=lamb_c)\n",
    "ax.text(*((E+F)/2-1.65*pd*VT), r'$\\mu$', color=mu_c)\n",
    "ax.text(*((F+A)/2+1.50*pd*IT), r'$\\lambda$', color=lamb_c)\n",
    "\n",
    "expand_limits(ax, 1.4)\n",
    "plt.show()"
   ]
  },
  {
   "cell_type": "code",
   "execution_count": 93,
   "metadata": {},
   "outputs": [
    {
     "data": {
      "image/png": "[encoded data removed]",
      "text/plain": [
       "<Figure size 600x400 with 1 Axes>"
      ]
     },
     "metadata": {
      "needs_background": "light"
     },
     "output_type": "display_data"
    }
   ],
   "source": [
    "fig1, ax1 = plt.subplots()\n",
    "draw_multiplet(ax1, 0, 1,\n",
    "               size=30,\n",
    "               point_color='k', line_color='k',\n",
    "               no_frame=True, plot_title=False,\n",
    "               zero_lines=False, point_labels=True)\n",
    "\n",
    "expand_limits(ax1, 1.4)\n",
    "plt.show()"
   ]
  },
  {
   "cell_type": "code",
   "execution_count": 40,
   "metadata": {},
   "outputs": [
    {
     "data": {
      "image/png": "[encoded data removed]",
      "text/plain": [
       "<Figure size 600x400 with 1 Axes>"
      ]
     },
     "metadata": {
      "needs_background": "light"
     },
     "output_type": "display_data"
    }
   ],
   "source": [
    "figt, axt = plt.subplots()\n",
    "draw_multiplet(axt, 1, 1, plot_title=False)\n",
    "\n",
    "axttext = axt.text(0.5, 0.5, \"test\", ha='center')\n",
    "axt.scatter(0.5, 0.5)\n",
    "\n",
    "plt.show()"
   ]
  },
  {
   "cell_type": "code",
   "execution_count": 38,
   "metadata": {},
   "outputs": [
    {
     "name": "stdout",
     "output_type": "stream",
     "text": [
      "None\n"
     ]
    }
   ],
   "source": [
    "print(axttext."
   ]
  },
  {
   "cell_type": "code",
   "execution_count": 51,
   "metadata": {},
   "outputs": [
    {
     "name": "stdout",
     "output_type": "stream",
     "text": [
      "True\n"
     ]
    }
   ],
   "source": [
    "print(int(1.0) - 1.0 == 0)"
   ]
  },
  {
   "cell_type": "code",
   "execution_count": 76,
   "metadata": {},
   "outputs": [
    {
     "data": {
      "text/plain": [
       "'1/3'"
      ]
     },
     "execution_count": 76,
     "metadata": {},
     "output_type": "execute_result"
    }
   ],
   "source": [
    "str(fractions.Fraction(1/3).limit_denominator(30))"
   ]
  },
  {
   "cell_type": "code",
   "execution_count": 73,
   "metadata": {},
   "outputs": [
    {
     "data": {
      "text/plain": [
       "['1']"
      ]
     },
     "execution_count": 73,
     "metadata": {},
     "output_type": "execute_result"
    }
   ],
   "source": [
    "'1'.split('/')"
   ]
  },
  {
   "cell_type": "code",
   "execution_count": 74,
   "metadata": {},
   "outputs": [
    {
     "data": {
      "text/plain": [
       "['2', '3']"
      ]
     },
     "execution_count": 74,
     "metadata": {},
     "output_type": "execute_result"
    }
   ],
   "source": [
    "'2/3'.split('/')"
   ]
  },
  {
   "cell_type": "code",
   "execution_count": null,
   "metadata": {},
   "outputs": [],
   "source": []
  }
 ],
 "metadata": {
  "kernelspec": {
   "display_name": "Python 3",
   "language": "python",
   "name": "python3"
  },
  "language_info": {
   "codemirror_mode": {
    "name": "ipython",
    "version": 3
   },
   "file_extension": ".py",
   "mimetype": "text/x-python",
   "name": "python",
   "nbconvert_exporter": "python",
   "pygments_lexer": "ipython3",
   "version": "3.7.3"
  }
 },
 "nbformat": 4,
 "nbformat_minor": 5
}
