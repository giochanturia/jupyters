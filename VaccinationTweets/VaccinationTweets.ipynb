{
 "cells": [
  {
   "cell_type": "code",
   "execution_count": 1,
   "metadata": {},
   "outputs": [],
   "source": [
    "# import numpy as np\n",
    "import pandas as pd"
   ]
  },
  {
   "cell_type": "code",
   "execution_count": 2,
   "metadata": {},
   "outputs": [],
   "source": [
    "data = pd.read_csv(\"vaccination_all_tweets.csv\")"
   ]
  },
  {
   "cell_type": "code",
   "execution_count": 78,
   "metadata": {},
   "outputs": [
    {
     "data": {
      "text/html": [
       "<div>\n",
       "<style scoped>\n",
       "    .dataframe tbody tr th:only-of-type {\n",
       "        vertical-align: middle;\n",
       "    }\n",
       "\n",
       "    .dataframe tbody tr th {\n",
       "        vertical-align: top;\n",
       "    }\n",
       "\n",
       "    .dataframe thead th {\n",
       "        text-align: right;\n",
       "    }\n",
       "</style>\n",
       "<table border=\"1\" class=\"dataframe\">\n",
       "  <thead>\n",
       "    <tr style=\"text-align: right;\">\n",
       "      <th></th>\n",
       "      <th>text</th>\n",
       "    </tr>\n",
       "  </thead>\n",
       "  <tbody>\n",
       "    <tr>\n",
       "      <th>0</th>\n",
       "      <td>Same folks said daikon paste could treat a cyt...</td>\n",
       "    </tr>\n",
       "    <tr>\n",
       "      <th>1</th>\n",
       "      <td>While the world has been on the wrong side of ...</td>\n",
       "    </tr>\n",
       "    <tr>\n",
       "      <th>2</th>\n",
       "      <td>#coronavirus #SputnikV #AstraZeneca #PfizerBio...</td>\n",
       "    </tr>\n",
       "    <tr>\n",
       "      <th>3</th>\n",
       "      <td>Facts are immutable, Senator, even when you're...</td>\n",
       "    </tr>\n",
       "    <tr>\n",
       "      <th>4</th>\n",
       "      <td>Explain to me again why we need a vaccine @Bor...</td>\n",
       "    </tr>\n",
       "  </tbody>\n",
       "</table>\n",
       "</div>"
      ],
      "text/plain": [
       "                                                text\n",
       "0  Same folks said daikon paste could treat a cyt...\n",
       "1  While the world has been on the wrong side of ...\n",
       "2  #coronavirus #SputnikV #AstraZeneca #PfizerBio...\n",
       "3  Facts are immutable, Senator, even when you're...\n",
       "4  Explain to me again why we need a vaccine @Bor..."
      ]
     },
     "execution_count": 78,
     "metadata": {},
     "output_type": "execute_result"
    }
   ],
   "source": [
    "data[[\"text\", \"hashtags\"]][:5]"
   ]
  },
  {
   "cell_type": "code",
   "execution_count": 8,
   "metadata": {},
   "outputs": [
    {
     "data": {
      "text/plain": [
       "Index(['id', 'user_name', 'user_location', 'user_description', 'user_created',\n",
       "       'user_followers', 'user_friends', 'user_favourites', 'user_verified',\n",
       "       'date', 'text', 'hashtags', 'source', 'retweets', 'favorites',\n",
       "       'is_retweet'],\n",
       "      dtype='object')"
      ]
     },
     "execution_count": 8,
     "metadata": {},
     "output_type": "execute_result"
    }
   ],
   "source": [
    "data.columns"
   ]
  },
  {
   "cell_type": "code",
   "execution_count": 5,
   "metadata": {},
   "outputs": [],
   "source": [
    "followers = data[\"user_followers\"]\n",
    "retweets  = data[\"retweets\"]"
   ]
  },
  {
   "cell_type": "code",
   "execution_count": 18,
   "metadata": {},
   "outputs": [
    {
     "data": {
      "text/plain": [
       "<AxesSubplot:xlabel='user_followers', ylabel='retweets'>"
      ]
     },
     "execution_count": 18,
     "metadata": {},
     "output_type": "execute_result"
    },
    {
     "data": {
      "image/png": "[encoded data removed]",
      "text/plain": [
       "<Figure size 432x288 with 1 Axes>"
      ]
     },
     "metadata": {
      "needs_background": "light"
     },
     "output_type": "display_data"
    }
   ],
   "source": [
    "data[[\"user_followers\", \"user_verified\", \"retweets\"]].plot.scatter(x=\"user_followers\", y=\"retweets\")"
   ]
  },
  {
   "cell_type": "code",
   "execution_count": 26,
   "metadata": {},
   "outputs": [
    {
     "data": {
      "text/html": [
       "<div>\n",
       "<style scoped>\n",
       "    .dataframe tbody tr th:only-of-type {\n",
       "        vertical-align: middle;\n",
       "    }\n",
       "\n",
       "    .dataframe tbody tr th {\n",
       "        vertical-align: top;\n",
       "    }\n",
       "\n",
       "    .dataframe thead th {\n",
       "        text-align: right;\n",
       "    }\n",
       "</style>\n",
       "<table border=\"1\" class=\"dataframe\">\n",
       "  <thead>\n",
       "    <tr style=\"text-align: right;\">\n",
       "      <th></th>\n",
       "      <th>id</th>\n",
       "      <th>user_name</th>\n",
       "      <th>user_location</th>\n",
       "      <th>user_description</th>\n",
       "      <th>user_created</th>\n",
       "      <th>user_followers</th>\n",
       "      <th>user_friends</th>\n",
       "      <th>user_favourites</th>\n",
       "      <th>user_verified</th>\n",
       "      <th>date</th>\n",
       "      <th>text</th>\n",
       "      <th>hashtags</th>\n",
       "      <th>source</th>\n",
       "      <th>retweets</th>\n",
       "      <th>favorites</th>\n",
       "      <th>is_retweet</th>\n",
       "    </tr>\n",
       "  </thead>\n",
       "  <tbody>\n",
       "    <tr>\n",
       "      <th>45767</th>\n",
       "      <td>1377731963101061123</td>\n",
       "      <td>hotvickkrishna</td>\n",
       "      <td>Manhattan, NY</td>\n",
       "      <td>Actor/Director/Editor/Comedian  Create. Laugh....</td>\n",
       "      <td>2020-05-27 01:39:43</td>\n",
       "      <td>5138</td>\n",
       "      <td>78</td>\n",
       "      <td>443</td>\n",
       "      <td>False</td>\n",
       "      <td>2021-04-01 21:17:51</td>\n",
       "      <td>Why we need Two Doses of mRNA Vaccine 💉 #vacci...</td>\n",
       "      <td>['vaccines', 'COVID19', 'Pfizer', 'moderna', '...</td>\n",
       "      <td>Twitter for iPhone</td>\n",
       "      <td>7635</td>\n",
       "      <td>19476</td>\n",
       "      <td>False</td>\n",
       "    </tr>\n",
       "  </tbody>\n",
       "</table>\n",
       "</div>"
      ],
      "text/plain": [
       "                        id       user_name  user_location  \\\n",
       "45767  1377731963101061123  hotvickkrishna  Manhattan, NY   \n",
       "\n",
       "                                        user_description         user_created  \\\n",
       "45767  Actor/Director/Editor/Comedian  Create. Laugh....  2020-05-27 01:39:43   \n",
       "\n",
       "       user_followers  user_friends  user_favourites  user_verified  \\\n",
       "45767            5138            78              443          False   \n",
       "\n",
       "                      date                                               text  \\\n",
       "45767  2021-04-01 21:17:51  Why we need Two Doses of mRNA Vaccine 💉 #vacci...   \n",
       "\n",
       "                                                hashtags              source  \\\n",
       "45767  ['vaccines', 'COVID19', 'Pfizer', 'moderna', '...  Twitter for iPhone   \n",
       "\n",
       "       retweets  favorites  is_retweet  \n",
       "45767      7635      19476       False  "
      ]
     },
     "execution_count": 26,
     "metadata": {},
     "output_type": "execute_result"
    }
   ],
   "source": [
    "data[data[\"retweets\"] == 7635]"
   ]
  },
  {
   "cell_type": "code",
   "execution_count": 30,
   "metadata": {},
   "outputs": [
    {
     "data": {
      "text/html": [
       "<div>\n",
       "<style scoped>\n",
       "    .dataframe tbody tr th:only-of-type {\n",
       "        vertical-align: middle;\n",
       "    }\n",
       "\n",
       "    .dataframe tbody tr th {\n",
       "        vertical-align: top;\n",
       "    }\n",
       "\n",
       "    .dataframe thead th {\n",
       "        text-align: right;\n",
       "    }\n",
       "</style>\n",
       "<table border=\"1\" class=\"dataframe\">\n",
       "  <thead>\n",
       "    <tr style=\"text-align: right;\">\n",
       "      <th></th>\n",
       "      <th>id</th>\n",
       "      <th>user_name</th>\n",
       "      <th>user_location</th>\n",
       "      <th>user_description</th>\n",
       "      <th>user_created</th>\n",
       "      <th>user_followers</th>\n",
       "      <th>user_friends</th>\n",
       "      <th>user_favourites</th>\n",
       "      <th>user_verified</th>\n",
       "      <th>date</th>\n",
       "      <th>text</th>\n",
       "      <th>hashtags</th>\n",
       "      <th>source</th>\n",
       "      <th>retweets</th>\n",
       "      <th>favorites</th>\n",
       "      <th>is_retweet</th>\n",
       "    </tr>\n",
       "  </thead>\n",
       "  <tbody>\n",
       "    <tr>\n",
       "      <th>37353</th>\n",
       "      <td>1374276683893600260</td>\n",
       "      <td>NDTV</td>\n",
       "      <td>India</td>\n",
       "      <td>Breaking news alerts from India.\\n\\nInstagram:...</td>\n",
       "      <td>2009-05-01 20:34:48</td>\n",
       "      <td>14919786</td>\n",
       "      <td>15</td>\n",
       "      <td>0</td>\n",
       "      <td>True</td>\n",
       "      <td>2021-03-23 08:27:48</td>\n",
       "      <td>No Blood Clot Risk From #Covishield, #Covaxin:...</td>\n",
       "      <td>['Covishield', 'Covaxin']</td>\n",
       "      <td>Twitter Media Studio - LiveCut</td>\n",
       "      <td>5</td>\n",
       "      <td>34</td>\n",
       "      <td>False</td>\n",
       "    </tr>\n",
       "    <tr>\n",
       "      <th>37365</th>\n",
       "      <td>1374259361267118083</td>\n",
       "      <td>NDTV</td>\n",
       "      <td>India</td>\n",
       "      <td>Breaking news alerts from India.\\n\\nInstagram:...</td>\n",
       "      <td>2009-05-01 20:34:48</td>\n",
       "      <td>14919786</td>\n",
       "      <td>15</td>\n",
       "      <td>0</td>\n",
       "      <td>True</td>\n",
       "      <td>2021-03-23 07:18:58</td>\n",
       "      <td>No Blood Clot Risk From #Covishield, #Covaxin:...</td>\n",
       "      <td>['Covishield', 'Covaxin']</td>\n",
       "      <td>NDTV News Studio</td>\n",
       "      <td>8</td>\n",
       "      <td>79</td>\n",
       "      <td>False</td>\n",
       "    </tr>\n",
       "  </tbody>\n",
       "</table>\n",
       "</div>"
      ],
      "text/plain": [
       "                        id user_name user_location  \\\n",
       "37353  1374276683893600260      NDTV         India   \n",
       "37365  1374259361267118083      NDTV         India   \n",
       "\n",
       "                                        user_description         user_created  \\\n",
       "37353  Breaking news alerts from India.\\n\\nInstagram:...  2009-05-01 20:34:48   \n",
       "37365  Breaking news alerts from India.\\n\\nInstagram:...  2009-05-01 20:34:48   \n",
       "\n",
       "       user_followers  user_friends  user_favourites  user_verified  \\\n",
       "37353        14919786            15                0           True   \n",
       "37365        14919786            15                0           True   \n",
       "\n",
       "                      date                                               text  \\\n",
       "37353  2021-03-23 08:27:48  No Blood Clot Risk From #Covishield, #Covaxin:...   \n",
       "37365  2021-03-23 07:18:58  No Blood Clot Risk From #Covishield, #Covaxin:...   \n",
       "\n",
       "                        hashtags                          source  retweets  \\\n",
       "37353  ['Covishield', 'Covaxin']  Twitter Media Studio - LiveCut         5   \n",
       "37365  ['Covishield', 'Covaxin']                NDTV News Studio         8   \n",
       "\n",
       "       favorites  is_retweet  \n",
       "37353         34       False  \n",
       "37365         79       False  "
      ]
     },
     "execution_count": 30,
     "metadata": {},
     "output_type": "execute_result"
    }
   ],
   "source": [
    "data[data[\"user_followers\"] == 14919786]"
   ]
  },
  {
   "cell_type": "code",
   "execution_count": 67,
   "metadata": {},
   "outputs": [
    {
     "data": {
      "text/plain": [
       "0         True\n",
       "1        False\n",
       "2         True\n",
       "3        False\n",
       "4         True\n",
       "         ...  \n",
       "49599    False\n",
       "49600    False\n",
       "49601    False\n",
       "49602    False\n",
       "49603    False\n",
       "Name: text, Length: 49604, dtype: bool"
      ]
     },
     "execution_count": 67,
     "metadata": {},
     "output_type": "execute_result"
    }
   ],
   "source": [
    "data[\"text\"].str.upper().str.contains(\"BIONTECH\")"
   ]
  },
  {
   "cell_type": "code",
   "execution_count": 74,
   "metadata": {},
   "outputs": [
    {
     "data": {
      "text/plain": [
       "0                                       ['PfizerBioNTech']\n",
       "1                                                      NaN\n",
       "2        ['coronavirus', 'SputnikV', 'AstraZeneca', 'Pf...\n",
       "3                                                      NaN\n",
       "4           ['whereareallthesickpeople', 'PfizerBioNTech']\n",
       "                               ...                        \n",
       "49599    ['france', 'Germany', 'SputnikV', 'SputnikVvac...\n",
       "49600                                     ['vaccin', 'EU']\n",
       "49601    ['COVID19', 'France', 'Germany', 'Putin', 'Spu...\n",
       "49602            ['Putin', 'Merkel', 'Macron', 'SputnikV']\n",
       "49603                                           ['JustIn']\n",
       "Name: hashtags, Length: 49604, dtype: object"
      ]
     },
     "execution_count": 74,
     "metadata": {},
     "output_type": "execute_result"
    }
   ],
   "source": [
    "data[\"hashtags\"].str.join(sep=\"\")"
   ]
  }
 ],
 "metadata": {
  "kernelspec": {
   "display_name": "Python 3",
   "language": "python",
   "name": "python3"
  },
  "language_info": {
   "codemirror_mode": {
    "name": "ipython",
    "version": 3
   },
   "file_extension": ".py",
   "mimetype": "text/x-python",
   "name": "python",
   "nbconvert_exporter": "python",
   "pygments_lexer": "ipython3",
   "version": "3.7.3"
  }
 },
 "nbformat": 4,
 "nbformat_minor": 4
}
